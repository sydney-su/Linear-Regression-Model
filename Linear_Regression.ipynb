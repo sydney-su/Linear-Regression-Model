{
 "cells": [
  {
   "cell_type": "markdown",
   "metadata": {},
   "source": [
    "# 1.) Nearest Neighbor Classification\n",
    "You are given the points belonging to class-1 and class-2 as follows:\n",
    "\n",
    "Class 1 points: (11,11),(13,11),(8,10),(9,9),(7,7),(7,5),(16,3)\n",
    "\n",
    "Class 2 points: (7,11),(15,9),(15,7),(13,5),(14,4),(9,3),(11,3)\n",
    "\n",
    "What is the label of the sample (14,3) using the nearest neighbor classifier using L2 distance?"
   ]
  },
  {
   "cell_type": "code",
   "execution_count": 2,
   "metadata": {},
   "outputs": [
    {
     "name": "stdout",
     "output_type": "stream",
     "text": [
      "L2 [11, 11] and [14, 3] = 8.54400374531753\n",
      "L2 [13, 11] and [14, 3] = 8.06225774829855\n",
      "L2 [8, 10] and [14, 3] = 9.219544457292887\n",
      "L2 [9, 9] and [14, 3] = 7.810249675906654\n",
      "L2 [7, 7] and [14, 3] = 8.06225774829855\n",
      "L2 [7, 5] and [14, 3] = 7.280109889280518\n",
      "L2 [16, 3] and [14, 3] = 2.0\n",
      "L2 [7, 11] and [14, 3] = 10.63014581273465\n",
      "L2 [15, 9] and [14, 3] = 6.082762530298219\n",
      "L2 [15, 7] and [14, 3] = 4.123105625617661\n",
      "L2 [13, 5] and [14, 3] = 2.23606797749979\n",
      "L2 [14, 4] and [14, 3] = 1.0\n",
      "L2 [9, 3] and [14, 3] = 5.0\n",
      "L2 [11, 3] and [14, 3] = 3.0\n",
      "The point [14, 3] is labeled as class 2 with a L2 distance of 1.0\n"
     ]
    }
   ],
   "source": [
    "import math\n",
    "\n",
    "points = [[11,11],[13,11],[8,10],[9,9],[7,7],[7,5],[16,3],\n",
    "              [7,11],[15,9],[15,7],[13,5],[14,4],[9,3],[11,3]]\n",
    "classes = [1,1,1,1,1,1,1,2,2,2,2,2,2,2]\n",
    "test = [14,3]\n",
    "min = float(\"inf\")\n",
    "label = \"TBD\"\n",
    "for i in range(len(points)):\n",
    "    dist = math.sqrt((points[i][0] - test[0])**2 + (points[i][1] - test[1])**2)\n",
    "    if dist < min:\n",
    "        label = classes[i]\n",
    "        min = dist\n",
    "    print(\"L2\", points[i], \"and\", test, \"=\", dist)\n",
    "print(\"The point\", test, \"is labeled as class\", label, \"with a L2 distance of\", min)\n"
   ]
  },
  {
   "cell_type": "markdown",
   "metadata": {},
   "source": [
    ".  \n",
    ".  \n",
    ".  \n",
    ".  \n",
    ".  \n",
    ".  \n",
    ".  \n",
    ".  \n",
    ".  \n",
    ".  \n",
    ".  \n",
    ".  \n",
    ".  \n",
    ".  \n",
    ".  \n",
    ".  \n",
    ".  \n",
    ".  \n",
    ".  \n",
    ".  \n",
    ".  "
   ]
  },
  {
   "cell_type": "markdown",
   "metadata": {},
   "source": [
    "# 5.) Implementing a Linear Regression Model From Scratch"
   ]
  },
  {
   "cell_type": "markdown",
   "metadata": {
    "editable": true,
    "slideshow": {
     "slide_type": ""
    },
    "tags": []
   },
   "source": [
    "# Introduction\n",
    "\n",
    "Linear regression generally have the form of $Y_{i} = \\theta_{0} + \\theta_{1} x_{1} + \\theta_{2} x_{2} + ...$ <br>\n",
    "There are several ways to find the coefficients of the regression: <br>\n",
    "1. Linear Algebra: $\\hat{\\theta} = (X^{T}X)^{-1}X^{T}Y$ (When X is invertible) <br>\n",
    "2. Gradient Descent: In this case, we need to write out the loss function and try to minimize the loss. <br>\n",
    "$\\hspace{30mm}$ $F(x)$ = Loss Function = MSE = $ \\frac{1}{n}\\sum^{n}_{i=1} (Y_{i} - \\hat{Y_{i}})^{2}$ <br>\n",
    "\n",
    "In this part of the assignment, we will be using the second way to implement this linear regression model. More details about the model's implementation can be found in corresponding lectures.\n",
    "\n",
    "### <font color='red'>ATTENTION: THERE ARE A TOTAL OF 4 QUESTIONS THAT NEED YOUR ANSWERS</font>"
   ]
  },
  {
   "cell_type": "markdown",
   "metadata": {},
   "source": [
    "## Import necessary packages\n",
    "\n",
    "You'll be implement your model in `LinearRegression.py` which should be put under the same directory as the location of `Linear_Regression.ipynb`. Since we have enabled `autoreload`, you only need to import these packages once. You don't need to restart the kernel of this notebook nor rerun the next cell even if you change your implementation for `LinearRegression.py` in the meantime.\n",
    "\n",
    "A suggestion for better productivity if you never used jupyter notebook + python script together: you can split your screen into left and right parts, and have your left part displaying this notebook and have your right part displaying your `LinearRegression.py`"
   ]
  },
  {
   "cell_type": "code",
   "execution_count": 29,
   "metadata": {},
   "outputs": [
    {
     "name": "stdout",
     "output_type": "stream",
     "text": [
      "The autoreload extension is already loaded. To reload it, use:\n",
      "  %reload_ext autoreload\n"
     ]
    }
   ],
   "source": [
    "# Please do not change this code block\n",
    "%load_ext autoreload\n",
    "%autoreload 2\n",
    "\n",
    "# import numpy, pandas, pyplot for arrays, dataframes, and visualizations\n",
    "import numpy as np\n",
    "import pandas as pd\n",
    "import matplotlib.pyplot as plt\n",
    "\n",
    "# import sklearn model to validate our custom model\n",
    "from sklearn.preprocessing import MinMaxScaler\n",
    "from sklearn.linear_model import LinearRegression\n",
    "from sklearn.model_selection import train_test_split\n",
    "\n",
    "# Please make sure that your `LinearRegression.py` is under the same folder as this .ipynb notebook\n",
    "from LinearRegression import Linear_Regression"
   ]
  },
  {
   "cell_type": "markdown",
   "metadata": {},
   "source": [
    "# Experiment 1: Perfect Data\n",
    "\n",
    "In this part, we generate a dataset with a perfect linear relationship to test our model's performance. Here, we use the equation: $y = 5x + 10$ to generate our dataset."
   ]
  },
  {
   "cell_type": "code",
   "execution_count": 48,
   "metadata": {},
   "outputs": [
    {
     "data": {
      "text/plain": [
       "'x = [ 1  6 11 16 21], y = [ 15  40  65  90 115] for the first 5 values'"
      ]
     },
     "execution_count": 48,
     "metadata": {},
     "output_type": "execute_result"
    }
   ],
   "source": [
    "X = np.array([np.arange(1, 1000, 5)]).T\n",
    "y = np.array((5 * X)).flatten() +  10\n",
    "f'x = {X[:5].flatten()}, y = {y[:5]} for the first 5 values'"
   ]
  },
  {
   "cell_type": "markdown",
   "metadata": {},
   "source": [
    "First, let's try to fit our model without any normalization (note: the below cell block could take significant amount of time to complete)"
   ]
  },
  {
   "cell_type": "code",
   "execution_count": 31,
   "metadata": {},
   "outputs": [
    {
     "name": "stdout",
     "output_type": "stream",
     "text": [
      "Start Training\n",
      "-----------------------\n",
      "Iteration: 0\n",
      "Coef: [[-0.50727732]\n",
      " [ 0.04103011]]\n",
      "Loss: 888736792845661.0\n",
      "-----------------------\n",
      "Iteration: 1000000\n",
      "Coef: [[5.00970719]\n",
      " [3.55331921]]\n",
      "Loss: 2087.4072684438697\n",
      "-----------------------\n",
      "Iteration: 2000000\n",
      "Coef: [[5.00628697]\n",
      " [5.82356024]]\n",
      "Loss: 876.0774343601329\n",
      "-----------------------\n",
      "Iteration: 3000000\n",
      "Coef: [[5.00407345]\n",
      " [7.29432103]]\n",
      "Loss: 367.6915700542073\n",
      "-----------------------\n",
      "Iteration: 4000000\n",
      "Coef: [[5.00263955]\n",
      " [8.24714339]]\n",
      "Loss: 154.32154307696996\n",
      "-----------------------\n",
      "Iteration: 5000000\n",
      "Coef: [[5.00171003]\n",
      " [8.86442345]]\n",
      "Loss: 64.76883909744302\n",
      "-----------------------\n",
      "Iteration: 6000000\n",
      "Coef: [[5.00110751]\n",
      " [9.26432398]]\n",
      "Loss: 27.18329112610115\n",
      "-----------------------\n",
      "Iteration: 7000000\n",
      "Coef: [[5.0007177 ]\n",
      " [9.52339712]]\n",
      "Loss: 11.408938803994742\n",
      "-----------------------\n",
      "Iteration: 8000000\n",
      "Coef: [[5.00046503]\n",
      " [9.69123592]]\n",
      "Loss: 4.788361602513329\n",
      "-----------------------\n",
      "Iteration: 9000000\n",
      "Coef: [[5.00030135]\n",
      " [9.79996923]]\n",
      "Loss: 2.009695940857667\n",
      "-----------------------\n",
      "End Training\n",
      "\n",
      "Number of total iterations: 10000000 \n",
      "Best Loss: 0.843450684279008\n",
      "CPU times: total: 3min 31s\n",
      "Wall time: 3min 34s\n"
     ]
    }
   ],
   "source": [
    "%%time\n",
    "%reload_ext autoreload\n",
    "reg = Linear_Regression(num_iter = 10000000)\n",
    "reg.fit(X,y)\n",
    "print(f'\\nNumber of total iterations: {len(reg.loss)} \\nBest Loss: {min(reg.loss)}')"
   ]
  },
  {
   "cell_type": "markdown",
   "metadata": {},
   "source": [
    "Then, let's try to fit our model with min-max normalization"
   ]
  },
  {
   "cell_type": "code",
   "execution_count": 32,
   "metadata": {},
   "outputs": [
    {
     "name": "stdout",
     "output_type": "stream",
     "text": [
      "Start Training\n",
      "-----------------------\n",
      "Iteration: 0\n",
      "Coef: [[2.90951212]\n",
      " [5.90247701]]\n",
      "Loss: 1661316534.6964731\n",
      "-----------------------\n",
      "End Training (Early Stopped at iteration 1383)\n",
      "\n",
      "Number of total iterations: 1383 \n",
      "Best Loss: 1.182003936834197e-23\n",
      "CPU times: total: 31.2 ms\n",
      "Wall time: 31.2 ms\n"
     ]
    }
   ],
   "source": [
    "%%time\n",
    "reg_norm = Linear_Regression(num_iter = 10000000, normalize=True)\n",
    "reg_norm.fit(X,y)\n",
    "print(f'\\nNumber of total iterations: {len(reg_norm.loss)} \\nBest Loss: {min(reg_norm.loss)}')"
   ]
  },
  {
   "cell_type": "markdown",
   "metadata": {},
   "source": [
    "Now, let's compare the performance between these two models with/without normalization"
   ]
  },
  {
   "cell_type": "code",
   "execution_count": 33,
   "metadata": {},
   "outputs": [
    {
     "data": {
      "image/png": "[encoded data removed]",
      "text/plain": [
       "<Figure size 640x480 with 1 Axes>"
      ]
     },
     "metadata": {},
     "output_type": "display_data"
    }
   ],
   "source": [
    "plt.plot(np.log(reg.loss), label='Linear Regression w/o Normalization')\n",
    "plt.plot(np.log(reg_norm.loss), label='Linear Regression w/ Normalization')\n",
    "plt.xlabel(\"Number of Iterations\")\n",
    "plt.ylabel(\"Loss (Log Scaled)\")\n",
    "plt.legend()\n",
    "plt.show()"
   ]
  },
  {
   "cell_type": "markdown",
   "metadata": {},
   "source": [
    "<font color='red'>**Question 1: What conclusions can you draw from this experiment? Did normalization help? How and why?**\n",
    "</font>"
   ]
  },
  {
   "cell_type": "markdown",
   "metadata": {},
   "source": [
    " - **Normalization drastically helped with run time and decreased overall loss by a noticeable amount**\n",
    " - **The use of normalization helps with faster convergence during gradient descent because the rescaling of all features to the same range (mean 0, variance 1) means that there is a reducation in overshooting/oscillating back and forth due to large feature values. Although it doesn't happen here, if you don't normalize there is a chance that the loss**\n",
    " - **The use of normalization helps with less overall loss since all feature values contribute proportionally to the function preventing against larger values dominating the model fit**"
   ]
  },
  {
   "cell_type": "markdown",
   "metadata": {},
   "source": [
    "# Experiment 2: Real-World Data\n",
    "\n",
    "After you complete the first experiment, let's see how our model performs against real-world data.\n",
    "\n",
    "The below dataset is taken from the [Boston Housing dataset](https://www.cs.toronto.edu/~delve/data/boston/bostonDetail.html), where there are 13 features and 1 target variable.\n",
    "\n",
    "0. CRIM - per capita crime rate by town\n",
    "1. ZN - proportion of residential land zoned for lots over 25,000 sq.ft.\n",
    "2. INDUS - proportion of non-retail business acres per town.\n",
    "3. CHAS - Charles River dummy variable (1 if tract bounds river; 0 otherwise)\n",
    "4. NOX - nitric oxides concentration (parts per 10 million)\n",
    "5. RM - average number of rooms per dwelling\n",
    "6. AGE - proportion of owner-occupied units built prior to 1940\n",
    "7. DIS - weighted distances to five Boston employment centres\n",
    "8. RAD - index of accessibility to radial highways\n",
    "9. TAX - full-value property-tax rate per \\$10,000\n",
    "10. PTRATIO - pupil-teacher ratio by town\n",
    "11. B - 1000(Bk - 0.63)^2 where Bk is the proportion of blacks by town\n",
    "12. LSTAT - \\% lower status of the population\n",
    "13. MEDV (**TARGET VARIABLE y**) - Median value of owner-occupied homes in $1000's"
   ]
  },
  {
   "cell_type": "code",
   "execution_count": 34,
   "metadata": {},
   "outputs": [
    {
     "data": {
      "text/html": [
       "<div>\n",
       "<style scoped>\n",
       "    .dataframe tbody tr th:only-of-type {\n",
       "        vertical-align: middle;\n",
       "    }\n",
       "\n",
       "    .dataframe tbody tr th {\n",
       "        vertical-align: top;\n",
       "    }\n",
       "\n",
       "    .dataframe thead th {\n",
       "        text-align: right;\n",
       "    }\n",
       "</style>\n",
       "<table border=\"1\" class=\"dataframe\">\n",
       "  <thead>\n",
       "    <tr style=\"text-align: right;\">\n",
       "      <th></th>\n",
       "      <th>0</th>\n",
       "      <th>1</th>\n",
       "      <th>2</th>\n",
       "      <th>3</th>\n",
       "      <th>4</th>\n",
       "      <th>5</th>\n",
       "      <th>6</th>\n",
       "      <th>7</th>\n",
       "      <th>8</th>\n",
       "      <th>9</th>\n",
       "      <th>10</th>\n",
       "      <th>11</th>\n",
       "      <th>12</th>\n",
       "      <th>13</th>\n",
       "    </tr>\n",
       "  </thead>\n",
       "  <tbody>\n",
       "    <tr>\n",
       "      <th>0</th>\n",
       "      <td>0.00632</td>\n",
       "      <td>18.0</td>\n",
       "      <td>2.31</td>\n",
       "      <td>0</td>\n",
       "      <td>0.538</td>\n",
       "      <td>6.575</td>\n",
       "      <td>65.2</td>\n",
       "      <td>4.0900</td>\n",
       "      <td>1</td>\n",
       "      <td>296.0</td>\n",
       "      <td>15.3</td>\n",
       "      <td>396.90</td>\n",
       "      <td>4.98</td>\n",
       "      <td>24.0</td>\n",
       "    </tr>\n",
       "    <tr>\n",
       "      <th>1</th>\n",
       "      <td>0.02731</td>\n",
       "      <td>0.0</td>\n",
       "      <td>7.07</td>\n",
       "      <td>0</td>\n",
       "      <td>0.469</td>\n",
       "      <td>6.421</td>\n",
       "      <td>78.9</td>\n",
       "      <td>4.9671</td>\n",
       "      <td>2</td>\n",
       "      <td>242.0</td>\n",
       "      <td>17.8</td>\n",
       "      <td>396.90</td>\n",
       "      <td>9.14</td>\n",
       "      <td>21.6</td>\n",
       "    </tr>\n",
       "    <tr>\n",
       "      <th>2</th>\n",
       "      <td>0.02729</td>\n",
       "      <td>0.0</td>\n",
       "      <td>7.07</td>\n",
       "      <td>0</td>\n",
       "      <td>0.469</td>\n",
       "      <td>7.185</td>\n",
       "      <td>61.1</td>\n",
       "      <td>4.9671</td>\n",
       "      <td>2</td>\n",
       "      <td>242.0</td>\n",
       "      <td>17.8</td>\n",
       "      <td>392.83</td>\n",
       "      <td>4.03</td>\n",
       "      <td>34.7</td>\n",
       "    </tr>\n",
       "    <tr>\n",
       "      <th>3</th>\n",
       "      <td>0.03237</td>\n",
       "      <td>0.0</td>\n",
       "      <td>2.18</td>\n",
       "      <td>0</td>\n",
       "      <td>0.458</td>\n",
       "      <td>6.998</td>\n",
       "      <td>45.8</td>\n",
       "      <td>6.0622</td>\n",
       "      <td>3</td>\n",
       "      <td>222.0</td>\n",
       "      <td>18.7</td>\n",
       "      <td>394.63</td>\n",
       "      <td>2.94</td>\n",
       "      <td>33.4</td>\n",
       "    </tr>\n",
       "    <tr>\n",
       "      <th>4</th>\n",
       "      <td>0.06905</td>\n",
       "      <td>0.0</td>\n",
       "      <td>2.18</td>\n",
       "      <td>0</td>\n",
       "      <td>0.458</td>\n",
       "      <td>7.147</td>\n",
       "      <td>54.2</td>\n",
       "      <td>6.0622</td>\n",
       "      <td>3</td>\n",
       "      <td>222.0</td>\n",
       "      <td>18.7</td>\n",
       "      <td>396.90</td>\n",
       "      <td>5.33</td>\n",
       "      <td>36.2</td>\n",
       "    </tr>\n",
       "  </tbody>\n",
       "</table>\n",
       "</div>"
      ],
      "text/plain": [
       "        0     1     2   3      4      5     6       7   8      9     10  \\\n",
       "0  0.00632  18.0  2.31   0  0.538  6.575  65.2  4.0900   1  296.0  15.3   \n",
       "1  0.02731   0.0  7.07   0  0.469  6.421  78.9  4.9671   2  242.0  17.8   \n",
       "2  0.02729   0.0  7.07   0  0.469  7.185  61.1  4.9671   2  242.0  17.8   \n",
       "3  0.03237   0.0  2.18   0  0.458  6.998  45.8  6.0622   3  222.0  18.7   \n",
       "4  0.06905   0.0  2.18   0  0.458  7.147  54.2  6.0622   3  222.0  18.7   \n",
       "\n",
       "       11    12    13  \n",
       "0  396.90  4.98  24.0  \n",
       "1  396.90  9.14  21.6  \n",
       "2  392.83  4.03  34.7  \n",
       "3  394.63  2.94  33.4  \n",
       "4  396.90  5.33  36.2  "
      ]
     },
     "execution_count": 34,
     "metadata": {},
     "output_type": "execute_result"
    }
   ],
   "source": [
    "url = 'https://archive.ics.uci.edu/ml/machine-learning-databases/housing/housing.data'\n",
    "df = pd.read_csv(url, delimiter='\\s+', header=None)\n",
    "df.head()"
   ]
  },
  {
   "cell_type": "code",
   "execution_count": 35,
   "metadata": {},
   "outputs": [],
   "source": [
    "X, y = np.array(df.drop(13, axis=1)), np.array(df[13])"
   ]
  },
  {
   "cell_type": "code",
   "execution_count": 36,
   "metadata": {},
   "outputs": [
    {
     "data": {
      "text/plain": [
       "array([6.3200e-03, 0.0000e+00, 4.6000e-01, 0.0000e+00, 3.8500e-01,\n",
       "       3.5610e+00, 2.9000e+00, 1.1296e+00, 1.0000e+00, 1.8700e+02,\n",
       "       1.2600e+01, 3.2000e-01, 1.7300e+00])"
      ]
     },
     "execution_count": 36,
     "metadata": {},
     "output_type": "execute_result"
    }
   ],
   "source": [
    "X.min(axis = 0)"
   ]
  },
  {
   "cell_type": "markdown",
   "metadata": {},
   "source": [
    "Now, let's use the data to fit our model"
   ]
  },
  {
   "cell_type": "code",
   "execution_count": 37,
   "metadata": {
    "scrolled": true
   },
   "outputs": [
    {
     "name": "stdout",
     "output_type": "stream",
     "text": [
      "Start Training\n",
      "-----------------------\n",
      "Iteration: 0\n",
      "Coef: [[-0.46249421]\n",
      " [-0.25393854]\n",
      " [ 0.80407772]\n",
      " [-0.07477705]\n",
      " [-0.82498313]\n",
      " [ 0.69835541]\n",
      " [-0.9338743 ]\n",
      " [ 0.54917705]\n",
      " [-0.45997956]\n",
      " [-0.53571181]\n",
      " [ 0.77542183]\n",
      " [ 0.53608298]\n",
      " [ 0.95345804]\n",
      " [ 0.16174536]]\n",
      "Loss: 279408.95121322386\n",
      "-----------------------\n",
      "End Training (Early Stopped at iteration 23935)\n",
      "\n",
      "Number of total iterations: 23935 \n",
      "Best Loss: 11078.784577955517\n",
      "CPU times: total: 578 ms\n",
      "Wall time: 586 ms\n"
     ]
    }
   ],
   "source": [
    "%%time\n",
    "reg = Linear_Regression(num_iter=100000, normalize=True)\n",
    "reg.fit(X,y)\n",
    "print(f'\\nNumber of total iterations: {len(reg.loss)} \\nBest Loss: {min(reg.loss)}')"
   ]
  },
  {
   "cell_type": "markdown",
   "metadata": {},
   "source": [
    "Let's visualize the loss curve of our model on this dataset"
   ]
  },
  {
   "cell_type": "code",
   "execution_count": 38,
   "metadata": {},
   "outputs": [
    {
     "data": {
      "image/png": "[encoded data removed]",
      "text/plain": [
       "<Figure size 640x480 with 1 Axes>"
      ]
     },
     "metadata": {},
     "output_type": "display_data"
    }
   ],
   "source": [
    "plt.plot(np.log(reg.loss), label='Linear Regression w/ Normalization')\n",
    "plt.xlabel(\"Number of Iterations\")\n",
    "plt.ylabel(\"Loss (Log Scaled)\")\n",
    "plt.legend()\n",
    "plt.show()"
   ]
  },
  {
   "cell_type": "markdown",
   "metadata": {},
   "source": [
    "To verify our model, we can compare our model's performance with respect to the linear regression model implemented in scikit-learn (a.k.a. `sklearn`). Scikit-learn is a popular machine learning library in python that provides many classical machine learning algorithms for many different tasks (regression, classification, clustering, etc). It also contains utility functions for preprocessing, calculating metrics, etc.\n",
    "\n",
    "If you implemented your model correctly, you should get a very similar output (difference < 1e-3) for RMSE (Root Mean Squared Error) compared to sklearn linear regressor's RMSE."
   ]
  },
  {
   "cell_type": "code",
   "execution_count": 39,
   "metadata": {},
   "outputs": [
    {
     "name": "stdout",
     "output_type": "stream",
     "text": [
      "Our Model's RMSE: 4.679191295697398\n",
      "Sklearn Model's RMSE: 4.679191295697282\n"
     ]
    }
   ],
   "source": [
    "m, n = df.shape\n",
    "X_norm = X.copy()\n",
    "\n",
    "# TODO: normalize X using the procedure in your model implementation\n",
    "X_norm = np.zeros(X.shape)\n",
    "maxVal = np.zeros((1, X.shape[1]))\n",
    "minVal = np.zeros((1, X.shape[1]))\n",
    "for i in range(X.shape[1]):\n",
    "    maxVal[:, i] = X[:, i].max()\n",
    "    minVal[:, i] = X[:, i].min()\n",
    "    \n",
    "for i in range(X.shape[1]):\n",
    "    X_norm[:, i] = (X[:, i] - minVal[:, i]) / (maxVal[:, i] - minVal[:, i])\n",
    "# Let's build a model with sklearn\n",
    "lr = LinearRegression()\n",
    "lr.fit(X_norm,y)\n",
    "\n",
    "#Compare Root Mean Squared Error.\n",
    "print(f\"Our Model's RMSE: {(sum((reg.predict(X).flatten() - y)**2)/m)**0.5}\\\n",
    "\\nSklearn Model's RMSE: {(sum((lr.predict(X_norm) - y)**2)/m)**0.5}\")"
   ]
  },
  {
   "cell_type": "markdown",
   "metadata": {},
   "source": [
    "Now, let's have some tweaks with our custom model. First, let's see if an interception (i.e. bias) really helps with our model's performance on the real-world data."
   ]
  },
  {
   "cell_type": "code",
   "execution_count": 40,
   "metadata": {},
   "outputs": [
    {
     "name": "stdout",
     "output_type": "stream",
     "text": [
      "CPU times: total: 1.05 s\n",
      "Wall time: 1.04 s\n"
     ]
    }
   ],
   "source": [
    "%%time\n",
    "%%capture\n",
    "reg_bias = Linear_Regression(num_iter=100000, normalize=True, intercept=True)\n",
    "reg_no_bias = Linear_Regression(num_iter=100000, normalize=True, intercept=False)\n",
    "reg_bias.fit(X,y)\n",
    "reg_no_bias.fit(X,y)"
   ]
  },
  {
   "cell_type": "code",
   "execution_count": 41,
   "metadata": {},
   "outputs": [
    {
     "name": "stdout",
     "output_type": "stream",
     "text": [
      "Our Model's RMSE with Interception: 4.679191295697365\n",
      "Our Model's RMSE without Interception: 5.2413542310052765\n"
     ]
    }
   ],
   "source": [
    "print(f\"Our Model's RMSE with Interception: {(sum((reg_bias.predict(X).flatten() - y)**2)/m)**0.5}\\\n",
    "\\nOur Model's RMSE without Interception: {(sum((reg_no_bias.predict(X).flatten() - y)**2)/m)**0.5}\")"
   ]
  },
  {
   "cell_type": "markdown",
   "metadata": {},
   "source": [
    "<font color='red'>**Question 2: What conclusions can you make here? Does the addition of an intercept make our model perform better?**</font>"
   ]
  },
  {
   "cell_type": "markdown",
   "metadata": {},
   "source": [
    "* **The inclusion of an intercept makes the model perform slightly better, which can be seen as the root mean squared error is lower with interception**\n",
    "* **It can be said that there is not a drastic difference in RMSE with/without interception because as the values of x increase in the function y = 5x + 10, the scalar value 10 which is computed in the intercept makes less and less of a contribution to the resultant feature value**"
   ]
  },
  {
   "cell_type": "markdown",
   "metadata": {},
   "source": [
    "Second, let's see if regularization can further help with decreasing our model's loss. Since regularization deals with the problem of overfitting, we need to check our model's performance on the \"unseen\" data. Here, we will split our data into two parts: `training set` and `test set`, where our model will be fit with the training set, and the performance will be evaluated based on the test set."
   ]
  },
  {
   "cell_type": "code",
   "execution_count": 42,
   "metadata": {},
   "outputs": [],
   "source": [
    "X_train, X_test, y_train, y_test = train_test_split(X_norm, y, test_size=0.33, random_state=42)\n",
    "m, n = X_test.shape"
   ]
  },
  {
   "cell_type": "code",
   "execution_count": 43,
   "metadata": {},
   "outputs": [
    {
     "name": "stdout",
     "output_type": "stream",
     "text": [
      "CPU times: total: 969 ms\n",
      "Wall time: 961 ms\n"
     ]
    }
   ],
   "source": [
    "%%time\n",
    "%%capture\n",
    "reg = Linear_Regression(num_iter=100000, normalize=True)\n",
    "reg.fit(X_train, y_train)\n",
    "# Feel free to tune the lambda hyperparameter for better performance when penalty (regularization) is applied\n",
    "reg_l1 = Linear_Regression(num_iter=100000, normalize=True, penalty='l1')\n",
    "reg_l1.fit(X_train, y_train)\n",
    "reg_l2 = Linear_Regression(num_iter=100000, normalize=True, penalty='l2',lam=1.5e-3)\n",
    "reg_l2.fit(X_train, y_train)"
   ]
  },
  {
   "cell_type": "code",
   "execution_count": 44,
   "metadata": {},
   "outputs": [
    {
     "name": "stdout",
     "output_type": "stream",
     "text": [
      "Our Model's RMSE: 4.552364549229575\n",
      "Our L1 Regularized Model's RMSE: 4.552524858713939\n",
      "Our L2 Regularized Model's RMSE: 4.654292778494587\n"
     ]
    }
   ],
   "source": [
    "print(f\"Our Model's RMSE: {(sum((reg.predict(X_test).flatten() - y_test)**2)/m)**0.5}\")\n",
    "print(f\"Our L1 Regularized Model's RMSE: {(sum((reg_l1.predict(X_test).flatten() - y_test)**2)/m)**0.5}\")\n",
    "print(f\"Our L2 Regularized Model's RMSE: {(sum((reg_l2.predict(X_test).flatten() - y_test)**2)/m)**0.5}\")"
   ]
  },
  {
   "cell_type": "markdown",
   "metadata": {},
   "source": [
    "<font color='red'> **Question 3: What conclusions can you make here? Does the addition of a regularization make our model perform better on the test set? Why does the addition of it make our model perform better/worse?** </font>"
   ]
  },
  {
   "cell_type": "markdown",
   "metadata": {},
   "source": [
    "* **With no regularization, the model is very slightly worse than L1 potentially due to overfitting. This can also be attributed to the fact that with no penalty, the model can assign large weights to minimize training error**\n",
    "* **With L1 regularization, the model performs very slightly better than no regularization. This can be attributed to setting some weights to 0 (zero clipping) which can potentially eliminate feature weights which are not helpful to the model prediction. There is also some penalty added for weights which prevents overfitting to training data**\n",
    "* **With L2 regularization, the model perfoms slightly worse. This can be attributed to the fact that L2 results in many smaller weights but no zero clipping. It can also be attributed to the high penalty (weight^2) which discourages the model from giving too much weight to any one feature and can result in underfitting.**"
   ]
  },
  {
   "cell_type": "markdown",
   "metadata": {},
   "source": [
    "Finally, let's see the role of an adaptive learning rate. Let's see our model's performance when adaptive learning rate is disabled."
   ]
  },
  {
   "cell_type": "code",
   "execution_count": 45,
   "metadata": {},
   "outputs": [],
   "source": [
    "m, n = X.shape"
   ]
  },
  {
   "cell_type": "code",
   "execution_count": 46,
   "metadata": {},
   "outputs": [
    {
     "name": "stdout",
     "output_type": "stream",
     "text": [
      "CPU times: total: 734 ms\n",
      "Wall time: 744 ms\n"
     ]
    }
   ],
   "source": [
    "%%time\n",
    "%%capture\n",
    "reg = Linear_Regression(num_iter=100000, normalize=True)\n",
    "reg.fit(X, y)\n",
    "reg_alt = Linear_Regression(num_iter=100000, normalize=True, adaptive=False)\n",
    "reg_alt.fit(X, y)"
   ]
  },
  {
   "cell_type": "code",
   "execution_count": 47,
   "metadata": {},
   "outputs": [
    {
     "name": "stdout",
     "output_type": "stream",
     "text": [
      "Our Model's RMSE with Adaptive LR: 4.679191295697373\n",
      "Our Model's RMSE without Adaptive LR: 24.851030256267546\n"
     ]
    }
   ],
   "source": [
    "print(f\"Our Model's RMSE with Adaptive LR: {(sum((reg.predict(X).flatten() - y)**2)/m)**0.5}\\\n",
    "\\nOur Model's RMSE without Adaptive LR: {(sum((reg_alt.predict(X).flatten() - y)**2)/m)**0.5}\")"
   ]
  },
  {
   "cell_type": "markdown",
   "metadata": {},
   "source": [
    "<font color='red'> **Question 4: What conclusions can you make here? Does the addition of an adaptive learning rate make our model perform better? What are your reasonings here?**</font>"
   ]
  },
  {
   "cell_type": "markdown",
   "metadata": {},
   "source": [
    "* **The addition of an adaptive learning rate makes the model perform slightly better**\n",
    "* **This can be atttributed to the fact that if the error with the new gradient/weights is less than the previous error, then the learning rate is increased to reflect a \"correct direction\" prediction direction and the weights are updated. This can be thought of as picking up pace as you run down the side of a valley in the direction of the bottom of the valley**\n",
    "* **Whereas, when the new gradient/weights error is more than the previous error, the learning rate decreases to minimize a \"wrong direction\" predication direction and doesn't change the weights. This can be thought of trying to slow down near the bottom when running down the side of a valley so that you don't overshoot the bottom of the valley and start going up the other side of the valley**"
   ]
  },
  {
   "cell_type": "code",
   "execution_count": null,
   "metadata": {},
   "outputs": [],
   "source": []
  }
 ],
 "metadata": {
  "kernelspec": {
   "display_name": "Python 3 (ipykernel)",
   "language": "python",
   "name": "python3"
  },
  "language_info": {
   "codemirror_mode": {
    "name": "ipython",
    "version": 3
   },
   "file_extension": ".py",
   "mimetype": "text/x-python",
   "name": "python",
   "nbconvert_exporter": "python",
   "pygments_lexer": "ipython3",
   "version": "3.11.7"
  }
 },
 "nbformat": 4,
 "nbformat_minor": 4
}
